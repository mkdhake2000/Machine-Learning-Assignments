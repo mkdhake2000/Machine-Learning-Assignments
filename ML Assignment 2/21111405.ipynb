{
 "cells": [
  {
   "cell_type": "markdown",
   "source": [
    "**<h1 style=\"text-align:center\"><font size = \"15\" >Q1</font></h1>**\r\n",
    "\r\n",
    "***"
   ],
   "metadata": {}
  },
  {
   "cell_type": "code",
   "execution_count": 1,
   "source": [
    "import numpy as np\r\n",
    "%matplotlib inline\r\n",
    "import matplotlib.pyplot as plt\r\n",
    "from time import time\r\n",
    "# For Much Accurate Approach in getting intersection of two graphs:\r\n",
    "# from shapely.geometry import LineString"
   ],
   "outputs": [],
   "metadata": {}
  },
  {
   "cell_type": "markdown",
   "source": [
    "# Given Gradient Function"
   ],
   "metadata": {}
  },
  {
   "cell_type": "code",
   "execution_count": 2,
   "source": [
    "def gradient_descent(gradient,init_,learn_rate, n_iter=50, tol=1e-06):\r\n",
    "    x = init_\r\n",
    "    for  i in range(n_iter):\r\n",
    "        delta = -learn_rate*gradient(x)\r\n",
    "        if np.all(np.abs(delta) <= tol):\r\n",
    "            break\r\n",
    "        x += delta\r\n",
    "    return round(x*1000)/1000"
   ],
   "outputs": [],
   "metadata": {}
  },
  {
   "cell_type": "markdown",
   "source": [
    "# Q1. (a)\r\n",
    "\r\n",
    "## &emsp;Use this function to find minima for\r\n",
    "### &emsp;&emsp;&emsp;$(i) y =  x^2 + 3x + 4 $<br>\r\n",
    "### &emsp;&emsp;&emsp;$and $<br>\r\n",
    "### &emsp;&emsp;&emsp;$(ii) y = x^4 – 3x^2 + 2x$"
   ],
   "metadata": {}
  },
  {
   "cell_type": "markdown",
   "source": [
    "#### $(i) x^2 + 3x + 4$<br>\r\n",
    "#### &emsp;$\\text{Gradient for the function is:}$<br>\r\n",
    "### &emsp;$\\frac{d(x^2 + 3x + 4)}{d(x)} = 2x + 3$\r\n",
    "### &emsp;Plotting the graph for $y = 2x + 3$ and getting it's intersection with $y = 0$ to get the minima"
   ],
   "metadata": {}
  },
  {
   "cell_type": "code",
   "execution_count": 3,
   "source": [
    "x = np.linspace(-2,2,1000)\r\n",
    "y=2*x + 3 \r\n",
    "y1 = x*0\r\n",
    "plt.plot(x,y1)\r\n",
    "plt.plot(x,y)\r\n",
    "\r\n",
    "#Much Accurate Approach:\r\n",
    "\r\n",
    "#first_line = LineString(np.column_stack((x,y1)))\r\n",
    "#second_line = LineString(np.column_stack((x,y)))\r\n",
    "#intersection = first_line.intersection(second_line)\r\n",
    "#axis[0].plot(*intersection.xy, 'o')\r\n",
    "#a,b=intersection.xy\r\n",
    "#print(a,b)\r\n",
    "\r\n",
    "#Not much accurate approach:\r\n",
    "idx = np.argwhere(np.diff(np.sign(y1-y))).flatten()\r\n",
    "plt.plot(x[idx], y1[idx], 'ro')\r\n",
    "print(x[idx], y1[idx])"
   ],
   "outputs": [
    {
     "output_type": "stream",
     "name": "stdout",
     "text": [
      "[-1.5035035] [-0.]\n"
     ]
    },
    {
     "output_type": "display_data",
     "data": {
      "image/png": "[encoded data removed]",
      "text/plain": [
       "<Figure size 432x288 with 1 Axes>"
      ]
     },
     "metadata": {
      "needs_background": "light"
     }
    }
   ],
   "metadata": {}
  },
  {
   "cell_type": "markdown",
   "source": [
    "### Here we get the minima at $x=-1.5.$\r\n",
    "### Now, Applying learn rate of 0.01 in the gradient_descent function"
   ],
   "metadata": {}
  },
  {
   "cell_type": "code",
   "execution_count": 4,
   "source": [
    "gradient_descent(gradient=lambda x: 2 * x + 3, init_=0, learn_rate=0.01)"
   ],
   "outputs": [
    {
     "output_type": "execute_result",
     "data": {
      "text/plain": [
       "-0.954"
      ]
     },
     "metadata": {},
     "execution_count": 4
    }
   ],
   "metadata": {}
  },
  {
   "cell_type": "markdown",
   "source": [
    "### Since, we are not getting the exact minima, increasing the learn rate\r\n",
    "### Now, Applying learn rate of 0.1"
   ],
   "metadata": {}
  },
  {
   "cell_type": "code",
   "execution_count": 5,
   "source": [
    "gradient_descent(gradient=lambda x: 2 * x + 3, init_=0, learn_rate=0.1)"
   ],
   "outputs": [
    {
     "output_type": "execute_result",
     "data": {
      "text/plain": [
       "-1.5"
      ]
     },
     "metadata": {},
     "execution_count": 5
    }
   ],
   "metadata": {}
  },
  {
   "cell_type": "markdown",
   "source": [
    "### Here, we are getting the minima. So, the learn rate can be 0.1"
   ],
   "metadata": {}
  },
  {
   "cell_type": "markdown",
   "source": [
    "#### <br><br><br>$(ii) x^4 - 3x^2 + 2x$<br>\r\n",
    "#### &emsp;$\\text{Gradient for the function is:}$<br>\r\n",
    "### &emsp;$\\frac{d(x^4 - 3x^2 + 2x)}{d(x)} = 4x^3 - 6x + 2$\r\n",
    "### &emsp;Plotting the graph for $y = 4x^3 - 6x + 2$ and getting it's intersection with $y = 0$ to get the minima\r\n",
    "### &emsp;$4x^3 - 6x + 2$ = 0 Hence, $x = 1, x = 0.207, x = -1.207"
   ],
   "metadata": {}
  },
  {
   "cell_type": "code",
   "execution_count": 6,
   "source": [
    "x = np.linspace(-2,2,100000)\r\n",
    "y=4*x**3 - 6*x + 2\r\n",
    "y1 = x*0\r\n",
    "plt.plot(x,y1)\r\n",
    "plt.plot(x,y)\r\n",
    "\r\n",
    "#Much Accurate Approach:\r\n",
    "#first_line = LineString(np.column_stack((x,y1)))\r\n",
    "#second_line = LineString(np.column_stack((x,y)))\r\n",
    "#intersection = first_line.intersection(second_line)\r\n",
    "#axis[0].plot(*LineString(intersection).xy, 'o')\r\n",
    "#a,b=LineString(intersection).xy\r\n",
    "#print(a,b)\r\n",
    "\r\n",
    "#Not much accurate approach:\r\n",
    "idx = np.argwhere(np.diff(np.sign(y1-y))).flatten()\r\n",
    "plt.plot(x[idx], y1[idx], 'ro')\r\n",
    "print(x[idx], y1[idx])\r\n",
    "\r\n"
   ],
   "outputs": [
    {
     "output_type": "stream",
     "name": "stdout",
     "text": [
      "[-1.36603366  0.36602366  0.99999   ] [-0.  0.  0.]\n"
     ]
    },
    {
     "output_type": "display_data",
     "data": {
      "image/png": "[encoded data removed]",
      "text/plain": [
       "<Figure size 432x288 with 1 Axes>"
      ]
     },
     "metadata": {
      "needs_background": "light"
     }
    }
   ],
   "metadata": {}
  },
  {
   "cell_type": "markdown",
   "source": [
    "### Here we get the optima or saddle points at $x=-1.366, x = 0.366, x = 1$\r\n",
    "### for $x = -1.366$ : $y = (-1.366)^4 - 3(-1.366)^2 + 2(-1.366) = -4.848$\r\n",
    "### for $x = 0.366$ : $y = (0.366)^4 - 3(0.366)^2 + 2(0.366) = 0.348$\r\n",
    "### for $x = 1$ : $y = (1)^4 - 3(1)^2 + 2(1) = 0$\r\n",
    "### So, we have a global minima at $x = -1.366$\r\n",
    "### Now, Applying learn rate of 0.001 in the gradient_descent function"
   ],
   "metadata": {}
  },
  {
   "cell_type": "code",
   "execution_count": 7,
   "source": [
    "gradient_descent(gradient=lambda x: 4*(x**3) - 6*x +2, init_=-1, learn_rate=0.001)"
   ],
   "outputs": [
    {
     "output_type": "execute_result",
     "data": {
      "text/plain": [
       "-1.167"
      ]
     },
     "metadata": {},
     "execution_count": 7
    }
   ],
   "metadata": {}
  },
  {
   "cell_type": "markdown",
   "source": [
    "### Since, we are not getting the exact minima, increasing the learn rate\r\n",
    "### Now, Applying learn rate of 0.01"
   ],
   "metadata": {}
  },
  {
   "cell_type": "code",
   "execution_count": 8,
   "source": [
    "gradient_descent(gradient=lambda x: 4*(x**3) - 6*x +2, init_=-1, learn_rate=0.01)"
   ],
   "outputs": [
    {
     "output_type": "execute_result",
     "data": {
      "text/plain": [
       "-1.366"
      ]
     },
     "metadata": {},
     "execution_count": 8
    }
   ],
   "metadata": {}
  },
  {
   "cell_type": "markdown",
   "source": [
    "### Here, we are getting the minima. So, the learn rate can be 0.01\r\n",
    "### Also Note that if learn rate is greater than 0.237, we get overflow error<br><br>"
   ],
   "metadata": {}
  },
  {
   "cell_type": "markdown",
   "source": [
    "# Q1. (b)\r\n",
    "## &emsp;Write a gradient function to calculate gradients for a linear regression $y = ax + b$\r\n",
    "### &emsp;The following gradient function returns the partial derivative of the MSE with respect to a and b\r\n",
    "## &emsp;$mse = \\frac{1}{n}\\sum_{i=1}^n(y_i - y_{predicted})^2 = \\frac{1}{n}\\sum_{i=1}^n(y_i - (ax_i + b))^2$ \r\n",
    "### &emsp;Now,\r\n",
    "## &emsp;$\\frac{\\partial (mse)}{\\partial a} = -\\frac{2}{n}\\sum_{i=1}^nx_i(y_i - (ax_i + b))$\r\n",
    "### &emsp;and\r\n",
    "## &emsp;$\\frac{\\partial (mse)}{\\partial b} = -\\frac{2}{n}\\sum_{i=1}^n(y_i - (ax_i + b))$"
   ],
   "metadata": {}
  },
  {
   "cell_type": "code",
   "execution_count": 9,
   "source": [
    "def gradient(x,y,a,b):\r\n",
    "    #calculating the predicted y value\r\n",
    "    y_pred = a*x + b\r\n",
    "    n = len(x)\r\n",
    "    #getting the partial derivative values of mse with respect to a and b\r\n",
    "    der_a = -(2/n)*sum(x*(y-y_pred))\r\n",
    "    der_b = -(2/n)*sum((y-y_pred))\r\n",
    "    #returning the partial derivatives \r\n",
    "    return [der_a,der_b]"
   ],
   "outputs": [],
   "metadata": {}
  },
  {
   "cell_type": "markdown",
   "source": [
    "# Q1. (c)\r\n",
    "## &emsp;Generate artificial data for this regression according to the given protocol\r\n",
    "### &emsp;&emsp;Defining the gradient_descent function for getting the optimal a and b\r\n",
    "### &emsp;&emsp;gradient_descent function below will update the values of a and b as follows\r\n",
    "## &emsp;&emsp;$a_{t+1} = a_t - learn rate * \\frac{\\partial (mse)}{\\partial a}$\r\n",
    "## &emsp;&emsp;$b_{t+1} = b_t - learn rate * \\frac{\\partial (mse)}{\\partial b}$"
   ],
   "metadata": {}
  },
  {
   "cell_type": "code",
   "execution_count": 10,
   "source": [
    "def gradient_descent(x,y,learn_rate, n_iter=50, tol=1e-06):\r\n",
    "    #inititalizing the current a and b\r\n",
    "    curr_a = 0\r\n",
    "    curr_b = 0\r\n",
    "    #iterating through following code for number of iterations\r\n",
    "    for  i in range(n_iter):\r\n",
    "        #calculating the change to be made to current a and b \r\n",
    "        a_delta = -learn_rate*gradient(x,y,curr_a,curr_b)[0]\r\n",
    "        b_delta = -learn_rate*gradient(x,y,curr_a,curr_b)[1]\r\n",
    "        #break out of loop if change is less than tolerated change\r\n",
    "        if np.all(np.abs(a_delta) <= tol):\r\n",
    "            break\r\n",
    "        #updating current a and b\r\n",
    "        curr_a += a_delta\r\n",
    "        curr_b += b_delta\r\n",
    "    #returning the optimal a and b values\r\n",
    "    return [round(curr_a*10)/10,round(curr_b*10)/10]"
   ],
   "outputs": [],
   "metadata": {}
  },
  {
   "cell_type": "markdown",
   "source": [
    "### &emsp;&emsp;The following protocol is to be used to generate artificial data"
   ],
   "metadata": {}
  },
  {
   "cell_type": "code",
   "execution_count": 11,
   "source": [
    "np.random.seed(0)\r\n",
    "x = 2.5*np.random.randn(10000) + 1.5\r\n",
    "res = 1.5*np.random.randn(10000)\r\n",
    "y = 2 + 0.3 * x + res"
   ],
   "outputs": [],
   "metadata": {}
  },
  {
   "cell_type": "markdown",
   "source": [
    "### &emsp;&emsp;Running the gradient_descent function to get values for a and b"
   ],
   "metadata": {}
  },
  {
   "cell_type": "code",
   "execution_count": 12,
   "source": [
    "a,b = gradient_descent(x,y,0.1)\r\n",
    "print(a,b)"
   ],
   "outputs": [
    {
     "output_type": "stream",
     "name": "stdout",
     "text": [
      "0.3 2.0\n"
     ]
    }
   ],
   "metadata": {}
  },
  {
   "cell_type": "markdown",
   "source": [
    "# Q1. (d)\r\n",
    "## &emsp;Implement minibatch stochastic gradient descent using the code base you have developed so far\r\n",
    "### &emsp;&emsp;Mini-Batch Stochastic Gradient Descent Function for finding optimal a and b\r\n",
    "## &emsp;&emsp;$a_{t+1} = a_t - learn rate * \\frac{\\partial (mse)}{\\partial a}$\r\n",
    "## &emsp;&emsp;$b_{t+1} = b_t - learn rate * \\frac{\\partial (mse)}{\\partial b}$"
   ],
   "metadata": {}
  },
  {
   "cell_type": "code",
   "execution_count": 13,
   "source": [
    "def mb_gradient_descent(x,y,learn_rate,mb_size,n_iter, tol=1e-06):\r\n",
    "    #current a and b values\r\n",
    "    curr_a = curr_b = 0\r\n",
    "    #list of cost for each iteration\r\n",
    "    cost=[]\r\n",
    "    #taking x and y samples\r\n",
    "    x_sam = np.ones(mb_size)\r\n",
    "    y_sam = np.ones(mb_size)\r\n",
    "    #iterating through the number of iterations passed in function arguments\r\n",
    "    for i in range(n_iter):\r\n",
    "        #iterating through the batch size\r\n",
    "        for k in range(mb_size):\r\n",
    "            #taking a random index\r\n",
    "            random_index =np.random.randint(0,len(x)-1)\r\n",
    "            #getting the sample values of x and y at random index\r\n",
    "            x_sam[k] = x[random_index]\r\n",
    "            y_sam[k] = y[random_index]\r\n",
    "        #calculating the predicted y for current a and b\r\n",
    "        y_pred = curr_a*x_sam + curr_b\r\n",
    "        #calculating a_delta and b_delta which are the changes to be made in the current a and b to get the updated a and b\r\n",
    "        a_delta = -learn_rate*gradient(x_sam,y_sam,curr_a,curr_b)[0]\r\n",
    "        b_delta = -learn_rate*gradient(x_sam,y_sam,curr_a,curr_b)[1]\r\n",
    "        #inserting the cost for current a and b in the cost list\r\n",
    "        cost.append((1/mb_size)*sum([val**2 for val in (y_sam-y_pred)]))\r\n",
    "        #break out of loop if the delta values for a and b are less than the tolerated change\r\n",
    "        if np.all(np.abs(a_delta) <= tol and np.abs(b_delta) <= tol):\r\n",
    "            break\r\n",
    "        #updating the current a and b\r\n",
    "        curr_a += a_delta\r\n",
    "        curr_b += b_delta\r\n",
    "    #returning the optimal a, b and the cost list\r\n",
    "    return [round(curr_a*10)/10,round(curr_b*10)/10,cost]"
   ],
   "outputs": [],
   "metadata": {}
  },
  {
   "cell_type": "markdown",
   "source": [
    "### &emsp;Using the defined function mb_gradient_descent for getting the optimal a and b values for the given data \r\n",
    "### &emsp;with learning rate = 0.001, number of iterations = 5000 and batch size = 100"
   ],
   "metadata": {}
  },
  {
   "cell_type": "code",
   "execution_count": 14,
   "source": [
    "a,b,cost = mb_gradient_descent(x, y, 0.001,100,n_iter=5000)\r\n",
    "print(a,b)"
   ],
   "outputs": [
    {
     "output_type": "stream",
     "name": "stdout",
     "text": [
      "0.3 2.0\n"
     ]
    }
   ],
   "metadata": {}
  },
  {
   "cell_type": "markdown",
   "source": [
    "# Q1. (e)\r\n",
    "## &emsp;Does SGD do better or worse in terms of time performance on our data?\r\n",
    "## &emsp;Is there an optimal minibatch size that works best? Quantify and interpret your findings\r\n"
   ],
   "metadata": {}
  },
  {
   "cell_type": "markdown",
   "source": [
    "### &emsp;&emsp;Creating a list of all the $2^i$ for all i in $0$ to $13$ and appending $10000$ at it's end\r\n",
    "### &emsp;&emsp;This list gives us the batch sizes we will consider to evaluate the performance of Mini-Batch SGD\r\n",
    "### &emsp;&emsp;Also, Here when we put $i = 0$, we get $2^i = 1$ which works as SGD\r\n",
    "### &emsp;&emsp;And, When we consider the last value in the list $(10000)$, we get system that works as GD, Since we are considering all samples\r\n"
   ],
   "metadata": {}
  },
  {
   "cell_type": "code",
   "execution_count": 15,
   "source": [
    "list_batch_size = [2**i for i in range(14)]\r\n",
    "list_batch_size.append(10000)\r\n",
    "list_batch_size"
   ],
   "outputs": [
    {
     "output_type": "execute_result",
     "data": {
      "text/plain": [
       "[1, 2, 4, 8, 16, 32, 64, 128, 256, 512, 1024, 2048, 4096, 8192, 10000]"
      ]
     },
     "metadata": {},
     "execution_count": 15
    }
   ],
   "metadata": {}
  },
  {
   "cell_type": "markdown",
   "source": [
    "### &emsp;&emsp;Running the minibatch gradient descent function for each value in the list formed above (list_batch_size) and \r\n",
    "### &emsp;&emsp;Considering fixed number of iterations to be 1000 and learning rate to be 0.03"
   ],
   "metadata": {}
  },
  {
   "cell_type": "code",
   "execution_count": 16,
   "source": [
    "loss=[]\r\n",
    "timels=[]\r\n",
    "for i in list_batch_size:\r\n",
    "    #getting time before running function\r\n",
    "    s = time()\r\n",
    "    #creating the variable with the number of iterations\r\n",
    "    n_iter = 1000\r\n",
    "    #Getting the a,b nd cost variables returned by the function\r\n",
    "    a,b,cost=mb_gradient_descent(x,y,0.03,i,n_iter)\r\n",
    "    #appending the average cost for each batch size \r\n",
    "    loss.append((1/n_iter)*sum(cost))\r\n",
    "    #getting the function execution time for each batch size\r\n",
    "    timels.append(time()-s)\r\n",
    "print(timels,loss)"
   ],
   "outputs": [
    {
     "output_type": "stream",
     "name": "stdout",
     "text": [
      "[0.04548454284667969, 0.04584980010986328, 0.048868656158447266, 0.06838512420654297, 0.08679866790771484, 0.15996074676513672, 0.24038958549499512, 0.48855137825012207, 0.9227261543273926, 1.9421894550323486, 3.6219851970672607, 7.478414297103882, 15.482229948043823, 33.89618992805481, 39.72303605079651] [4.205367463203399, 2.832384635587048, 2.501090638410942, 2.3443004374828584, 2.3158653384452412, 2.3013998245712397, 2.2728928514634887, 2.2471295861922385, 2.2561317173787216, 2.254595117490152, 2.2544260247896424, 2.2565189022823873, 2.2556333445421646, 2.25496040862261, 2.25644307210236]\n"
     ]
    }
   ],
   "metadata": {}
  },
  {
   "cell_type": "markdown",
   "source": [
    "### &emsp;&emsp;Plotting the graphs"
   ],
   "metadata": {}
  },
  {
   "cell_type": "code",
   "execution_count": 17,
   "source": [
    "#getting list of all indices for all batch sizes\r\n",
    "ind=list(range(15))\r\n",
    "#getting the batch size values for each index above\r\n",
    "lsstr = []\r\n",
    "for i in range(len(list_batch_size)):\r\n",
    "    lsstr.append(str(list_batch_size[i]))\r\n",
    "#plotting the loss vs batch-size graph\r\n",
    "plt.rcParams['figure.figsize']=[25,14]\r\n",
    "figure, axis = plt.subplots(2,1)\r\n",
    "#plt.rcParams['figure.figsize']=[25,14]\r\n",
    "plt.sca(axis[0])\r\n",
    "plt.xticks(ind,lsstr)\r\n",
    "axis[0].set_title('Loss vs Batch-Size', size = '20')\r\n",
    "axis[0].plot(ind,loss,'o-')\r\n",
    "axis[0].set_xlabel('Batch-Size')\r\n",
    "axis[0].set_ylabel('Loss')\r\n",
    "\r\n",
    "#plotting the time-taken vs batch-size graph\r\n",
    "plt.sca(axis[1])\r\n",
    "plt.xticks(ind,lsstr)\r\n",
    "axis[1].set_title('Time-Taken vs Batch-Size', size = '20')\r\n",
    "axis[1].plot(ind,timels,'o-')\r\n",
    "axis[1].set_xlabel('Batch-Size')\r\n",
    "axis[1].set_ylabel('Time-Taken')"
   ],
   "outputs": [
    {
     "output_type": "execute_result",
     "data": {
      "text/plain": [
       "Text(0, 0.5, 'Time-Taken')"
      ]
     },
     "metadata": {},
     "execution_count": 17
    },
    {
     "output_type": "display_data",
     "data": {
      "image/png": "[encoded data removed]",
      "text/plain": [
       "<Figure size 1800x1008 with 2 Axes>"
      ]
     },
     "metadata": {
      "needs_background": "light"
     }
    }
   ],
   "metadata": {}
  },
  {
   "cell_type": "markdown",
   "source": [
    "### &emsp;&emsp;In above graphs:\r\n",
    "### &emsp;&emsp;When we have batch-size = 1, we get SGD\r\n",
    "### &emsp;&emsp;And, When we consider batch-size = 10000, we get GD, since we are considering all samples\r\n",
    "### &emsp;&emsp;And, Rest are batch-sizes for Mini-Batch SGD\r\n",
    "### &emsp;&emsp;From the above two graphs, We can say that SGD works fastest in comparision with Mini-Batch SGD and GD. \r\n",
    "### &emsp;&emsp;However, the accuracy given by SGD is least in comparision with Mini-Batch SGD and GD. \r\n",
    "### &emsp;&emsp;Also, the execution time order will be:\r\n",
    "$\r\n",
    "SGD\\;<\\;Mini-Batch\\;SGD\\;<\\;GD\r\n",
    "$\r\n",
    "### &emsp;&emsp;And, the accuracy order will also be:\r\n",
    "$\r\n",
    "SGD\\;<\\;Mini-Batch\\;SGD\\;<\\;GD\r\n",
    "$\r\n",
    "***\r\n",
    "<br><br><br>"
   ],
   "metadata": {}
  },
  {
   "cell_type": "markdown",
   "source": [
    "**<h1 style=\"text-align:center\"><font size = \"15\" >Q2</font></h1>**\r\n",
    "\r\n",
    "***\r\n",
    "$\\mathbf{(i)}$&emsp;$\\mathbf{\\text{The probability that someone has both cold and a fever:}}$<br><br>\r\n",
    "&emsp;&emsp;&emsp;$P(Cold, Fever) \\text{ is the probability that someone has both Cold and Fever}$<br><br>\r\n",
    "&emsp;&emsp;&emsp;$P(Fever|Cold) \\text{ is the probability that someone has Fever, given that he/she has Cold}$<br><br>\r\n",
    "&emsp;&emsp;&emsp;$P(Cold) \\text{ is the probability that someone has Cold}$<br><br>\r\n",
    "$\r\n",
    "P(Cold, Fever) = P(Fever|Cold)P(Cold)\r\n",
    "$\r\n",
    "$\r\n",
    "P(Cold, Fever) = 0.307 * 0.02\r\n",
    "$\r\n",
    "$\r\n",
    "P(Cold, Fever) = 0.00614\r\n",
    "$\r\n",
    "<br><br><br><br><br>\r\n",
    "\r\n",
    "$\\mathbf{(ii)}$&emsp;$\\mathbf{\\text{The probability that someone who has a cough has a cold:}}$<br><br>\r\n",
    "&emsp;&emsp;&emsp;$P(LungD) \\text{ is the probability that someone has Lung Disease}$<br><br>\r\n",
    "&emsp;&emsp;&emsp;$P(LungD|Sm) \\text{ is the probability that someone has Lung Disease, given that he/she Smokes}$<br><br>\r\n",
    "&emsp;&emsp;&emsp;$P(Cold|Cough) \\text{ is the probability that someone has Cold, given that he/she has Cough}$<br><br>\r\n",
    "&emsp;&emsp;&emsp;$P(Cold,Cough) \\text{ is the probability that someone who has both Cough and Cold}$<br><br>\r\n",
    "&emsp;&emsp;&emsp;$P(Sm') \\text{ is the probability that someone does not Smoke}$<br><br>\r\n",
    "&emsp;&emsp;&emsp;$P(Cough,Cold,LungD) \\text{ is the probability that someone has Cough, Cold and Lung Disease}$<br><br>\r\n",
    "&emsp;&emsp;&emsp;$P(Cold,Cough,LungD') \\text{ is the probability that someone has Cough, Cold but not Lung Disease}$<br><br>\r\n",
    "&emsp;&emsp;&emsp;$P(Cold',Cough,LungD) \\text{ is the probability that someone has Cough, Lung Disease but not Cold}$<br><br>\r\n",
    "&emsp;&emsp;&emsp;$P(Cold',Cough,LungD') \\text{ is the probability that someone has Cough but no Cold and no Lung Disease}$<br><br><br><br>\r\n",
    "&emsp;&emsp;&emsp;$P(Cold,LungD) = P(Cold) * P(LungD)\\text{ Since, Cold and LungD are independent }$<br><br>\r\n",
    "&emsp;&emsp;&emsp;$P(Cold',LungD) = P(Cold') * P(LungD)\\text{ Since, Cold' and LungD are independent }$<br><br>\r\n",
    "&emsp;&emsp;&emsp;$P(Cold,LungD') = P(Cold) * P(LungD')\\text{ Since, Cold and LungD' are independent }$<br><br>\r\n",
    "&emsp;&emsp;&emsp;$P(Cold',LungD') = P(Cold') * P(LungD')\\text{ Since, Cold' and LungD' are independent }$<br><br>\r\n",
    "$\r\n",
    "P(LungD) = P(LungD|Sm)P(Sm) + P(LungD|Sm')P(Sm')\r\n",
    "$\r\n",
    "$\r\n",
    "P(LungD) = 0.1009 * 0.2 + 0.001 * 0.8\r\n",
    "$\r\n",
    "$\r\n",
    "P(LungD) = 0.02098\r\n",
    "$\r\n",
    "$\r\n",
    "P(Cold|Cough) = \\Bigg[\\frac{P(Cough, Cold)}{P(Cough)}\\Bigg]\r\n",
    "$\r\n",
    "$\r\n",
    "P(Cold|Cough) = \\Bigg[\\frac{P(Cough,Cold,LungD) + P(Cold,Cough,LungD')}{P(Cough,Cold,LungD) + P(Cold',Cough,LungD) + P(Cold,Cough,LungD') + P(Cold',Cough,LungD')}\\Bigg]\r\n",
    "$\r\n",
    "$\r\n",
    "P(Cold|Cough) = \\Bigg[\\frac{P(Cough|Cold,LungD)*P(Cold,LungD) + P(Cough|Cold,LungD')*P(Cold,LungD')}{P(Cough|Cold,LungD)*P(Cold,LungD) + P(Cough|Cold',LungD)*P(Cold',LungD) + P(Cough|Cold,LungD')*P(Cold,LungD') + P(Cough|Cold',LungD')*P(Cold',LungD')}\\Bigg]\r\n",
    "$\r\n",
    "$\r\n",
    "P(Cold|Cough) = \\Bigg[\\frac{0.7525*0.02098*0.02 + 0.505*0.02*(1-0.02098)}{0.7525*0.02098*0.02 + 0.505*(1-0.02)*0.02098 + 0.505*0.02*(1-0.02098) + 0.01*(1-0.02)*(1-0.02098)}\\Bigg]\r\n",
    "$\r\n",
    "$\r\n",
    "P(Cold|Cough) = \\Bigg[\\frac{0.0003 + 0.0098}{0.0003 + 0.0103 + 0.0098 + 0.0095}\\Bigg]\r\n",
    "$\r\n",
    "$\r\n",
    "P(Cold|Cough) = 0.3377\r\n",
    "$\r\n",
    "***\r\n",
    "<br><br><br>\r\n"
   ],
   "metadata": {}
  },
  {
   "cell_type": "markdown",
   "source": [
    "**<h1 style=\"text-align:center\"><font size = \"15\" >Q3</font></h1>**\r\n",
    "<h3 style=\"text-align:center\">Derive the MLE for the parameters of a k-sided multinomial distribution</h1>\r\n",
    "\r\n",
    "***\r\n",
    "\r\n",
    "### If an observation is\r\n",
    "$\r\n",
    "\\LARGE p_1 \\;=\\; p(X_1) \\;=\\; \\frac{x_1}{n}\r\n",
    "$\r\n",
    "$\r\n",
    "\\LARGE \\,.\\,.\\,.\\,\r\n",
    "$\r\n",
    "$\r\n",
    "\\LARGE p_m \\;=\\; p(X_m) \\;=\\; \\frac{x_m}{n}\r\n",
    "$\r\n",
    "### then the likelihood which can be described as joint probability is \r\n",
    "$\r\n",
    "\\LARGE L(p) \\;=\\; {n \\choose {x_1,...,x_m}}\\prod_{k\\;=\\;1}^m\\,{p_k^{x_k}}\r\n",
    "$\r\n",
    "$\r\n",
    "\\LARGE \\;=\\; n!\\,\\prod_{k\\;=\\;1}^m\\,\\frac{p_k^{x_k}}{x_k!}\r\n",
    "$\r\n",
    "### and the log-likelihood is\r\n",
    "$\r\n",
    "\\LARGE l(p) \\;=\\; log\\;L(p) \\;=\\; log\\; \\Bigg(n!\\,\\prod_{k\\;=\\;1}^m \\,\\frac{{p_k^{x_k}}}{x_k!}  \\Bigg)\r\n",
    "$\r\n",
    "$\r\n",
    "\\LARGE \\;=\\; log\\;n! \\;+\\; log \\;\\prod_{k\\;=\\;1}^m \\,\\frac{{p_k^{x_k}}}{x_k!}\r\n",
    "$\r\n",
    "$\r\n",
    "\\LARGE \\;=\\; log\\;n! \\;+\\; \\sum_{k\\;=\\;1}^m\\,log \\; \\frac{{p_k^{x_k}}}{x_k!}\r\n",
    "$\r\n",
    "$\r\n",
    "\\LARGE \\;=\\; log\\;n! \\;+\\; \\sum_{k\\;=\\;1}^m\\,x_k\\,log \\;p_k \\;-\\; \\sum_{k\\;=\\;1}^m\\,log \\;{x_k!}\r\n",
    "$\r\n",
    "### Posing a constraint $\\LARGE(\\sum_{k\\;=\\;1}^m\\,p_k \\;=\\; 1)$ with Lagrange multiplier\r\n",
    "$\r\n",
    "\\LARGE l'(p,\\lambda) \\;=\\; l(p) \\;+\\; \\lambda \\Bigg( 1\\;-\\;\\sum_{k\\;=\\;1}^m\\,p_k \\Bigg)\r\n",
    "$\r\n",
    "### To find $arg\\,max_p\\;L(p,\\lambda)$\r\n",
    "$\r\n",
    "\\LARGE \\frac{\\partial}{\\partial p_k}\\,l'(p,\\lambda) \\;=\\; \\frac{\\partial}{\\partial p_k}\\,l(p) \\;+\\; \\frac{\\partial}{\\partial p_k}\\, \\lambda \\Bigg( 1 \\;-\\; \\sum_{k\\;=\\;1}^m\\,p_k \\Bigg)\\;=\\;0\r\n",
    "$\r\n",
    "$\r\n",
    "\\LARGE \\frac{\\partial}{\\partial p_k}\\,\\sum_{k\\;=\\;1}^m\\,x_k\\,log\\;p_k \\;-\\; \\lambda\\,\\frac{\\partial}{\\partial p_k}\\,\\sum_{k\\;=\\;1}^m\\,p_k\\;=\\;0\r\n",
    "$\r\n",
    "$\r\n",
    "\\LARGE \\frac{x_k}{p_k}\\;-\\;\\lambda\\;=\\;0\r\n",
    "$\r\n",
    "$\r\n",
    "\\LARGE p_k\\;=\\;\\frac{x_k}{\\lambda}\r\n",
    "$\r\n",
    "### Thus,\r\n",
    "$\r\n",
    "\\LARGE p_k\\;=\\;\\frac{x_k}{n}\r\n",
    "$\r\n",
    "### because\r\n",
    "$\r\n",
    "\\LARGE p_k\\;=\\;\\frac{x_k}{\\lambda}\r\n",
    "$\r\n",
    "$\r\n",
    "\\LARGE \\sum_{k\\;=\\;1}^m\\,p_k\\;=\\;\\sum_{k\\;=\\;1}^m\\,\\frac{x_k}{\\lambda}\r\n",
    "$\r\n",
    "$\r\n",
    "\\LARGE 1\\;=\\;\\frac{1}{\\lambda}\\,\\sum_{k\\;=\\;1}^m\\,x_k\r\n",
    "$\r\n",
    "$\r\n",
    "\\LARGE \\lambda\\;=\\;n\r\n",
    "$\r\n",
    "### Finally, the probability distribution that maximizes the likelihood of observing the data\r\n",
    "$\r\n",
    "\\LARGE p\\;=\\;\\Bigg( \\frac{x_1}{n},\\,.\\,.\\,.\\,,\\frac{x_m}{n} \\Bigg)\r\n",
    "$\r\n",
    "\r\n",
    "***"
   ],
   "metadata": {}
  }
 ],
 "metadata": {
  "kernelspec": {
   "name": "python3",
   "display_name": "Python 3.7.3 64-bit"
  },
  "language_info": {
   "codemirror_mode": {
    "name": "ipython",
    "version": 3
   },
   "file_extension": ".py",
   "mimetype": "text/x-python",
   "name": "python",
   "nbconvert_exporter": "python",
   "pygments_lexer": "ipython3",
   "version": "3.7.3"
  },
  "interpreter": {
   "hash": "c80d797ad0c0f99ceecb07d53ac314bc1d62fa8729ade7f8a491ed15ddf8184a"
  }
 },
 "nbformat": 4,
 "nbformat_minor": 5
}