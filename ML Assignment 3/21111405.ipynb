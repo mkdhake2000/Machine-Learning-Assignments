{
 "cells": [
  {
   "cell_type": "markdown",
   "source": [
    "**<h1 style=\"text-align:center\"><font size = \"15\" >Q1</font></h1>**\r\n",
    "***"
   ],
   "metadata": {}
  },
  {
   "cell_type": "markdown",
   "source": [
    "## Importing Numpy, Pandas and MatPlotLib Libraries"
   ],
   "metadata": {}
  },
  {
   "cell_type": "code",
   "execution_count": 219,
   "source": [
    "import pandas as pd\r\n",
    "import numpy as np\r\n",
    "import matplotlib.pyplot as plt\r\n",
    "%matplotlib inline"
   ],
   "outputs": [],
   "metadata": {}
  },
  {
   "cell_type": "markdown",
   "source": [
    "# Q1(a)\r\n",
    "## &emsp; Code up the perceptron algorithm described on slide 7 of Lecture 15 using the same notation asin the slides.\r\n",
    "## &emsp;&emsp;Perceptron loss function :  \r\n",
    "$\r\n",
    "\\Large L(w) = \\sum_{n=1}^{N} max(0,-y_nw^Tx_n)\r\n",
    "$\r\n",
    "## &emsp;&emsp;Optimizing Using SGD : \r\n",
    "$ \r\n",
    "\\Large g_n = \\begin{cases}0, \\;\\;\\text{if}\\;\\; y_nw^Tx_n \\;>=\\; 0 \\\\ -y_nx_n, \\;\\;\\text{if}\\;\\; y_nw^Tx_n \\;<\\; 0\\end{cases} \r\n",
    "$"
   ],
   "metadata": {}
  },
  {
   "cell_type": "code",
   "execution_count": 220,
   "source": [
    "#Defining the function perceptron to get optimal weight\r\n",
    "def perceptron(x,y,learn_rate = 1,n_iter=5000, tol=1e-06):\r\n",
    "    #Initializing w as 1\r\n",
    "    w = np.ones(len(x.iloc[0]))\r\n",
    "    \r\n",
    "    for  i in range(n_iter):\r\n",
    "        #Taking random samples of x and y\r\n",
    "        ind_rand =np.random.randint(0,len(x))\r\n",
    "        sam_x = np.array(x.iloc[ind_rand])\r\n",
    "        sam_y = y[ind_rand]\r\n",
    "        \r\n",
    "        #Predicting value of y based on current x and w\r\n",
    "        pred_y = np.dot(w,sam_x)\r\n",
    "        \r\n",
    "        #Calculating mistake \r\n",
    "        mis = sam_y*pred_y\r\n",
    "\r\n",
    "        #Breaking out of the loop if mistake is less than tolerated value\r\n",
    "        if np.all(np.abs(mis)) <= tol :\r\n",
    "            break\r\n",
    "        \r\n",
    "        #If mistake less than zero then change the w\r\n",
    "        if mis < 0 :\r\n",
    "            w = w + learn_rate*(sam_y*sam_x)\r\n",
    "        \r\n",
    "    #Returning the optimized w\r\n",
    "    return w"
   ],
   "outputs": [],
   "metadata": {}
  },
  {
   "cell_type": "markdown",
   "source": [
    "# Q1(b)\r\n",
    "## &emsp;Write functions to make predictions using the algorithm for the banknotes dataset. Preprocess the dataset to handle missing and anomalous data."
   ],
   "metadata": {}
  },
  {
   "cell_type": "code",
   "execution_count": 221,
   "source": [
    "bank_note_data = pd.read_csv(\"data_banknote_authentication.csv\",header=None,names=[\"var\",\"skew\",\"curt\",\"ent\",\"class\"])\r\n",
    "bank_note_data"
   ],
   "outputs": [
    {
     "output_type": "execute_result",
     "data": {
      "text/html": [
       "<div>\n",
       "<style scoped>\n",
       "    .dataframe tbody tr th:only-of-type {\n",
       "        vertical-align: middle;\n",
       "    }\n",
       "\n",
       "    .dataframe tbody tr th {\n",
       "        vertical-align: top;\n",
       "    }\n",
       "\n",
       "    .dataframe thead th {\n",
       "        text-align: right;\n",
       "    }\n",
       "</style>\n",
       "<table border=\"1\" class=\"dataframe\">\n",
       "  <thead>\n",
       "    <tr style=\"text-align: right;\">\n",
       "      <th></th>\n",
       "      <th>var</th>\n",
       "      <th>skew</th>\n",
       "      <th>curt</th>\n",
       "      <th>ent</th>\n",
       "      <th>class</th>\n",
       "    </tr>\n",
       "  </thead>\n",
       "  <tbody>\n",
       "    <tr>\n",
       "      <th>0</th>\n",
       "      <td>3.62160</td>\n",
       "      <td>8.66610</td>\n",
       "      <td>-2.8073</td>\n",
       "      <td>-0.44699</td>\n",
       "      <td>0</td>\n",
       "    </tr>\n",
       "    <tr>\n",
       "      <th>1</th>\n",
       "      <td>4.54590</td>\n",
       "      <td>8.16740</td>\n",
       "      <td>-2.4586</td>\n",
       "      <td>-1.46210</td>\n",
       "      <td>0</td>\n",
       "    </tr>\n",
       "    <tr>\n",
       "      <th>2</th>\n",
       "      <td>3.86600</td>\n",
       "      <td>-2.63830</td>\n",
       "      <td>1.9242</td>\n",
       "      <td>0.10645</td>\n",
       "      <td>0</td>\n",
       "    </tr>\n",
       "    <tr>\n",
       "      <th>3</th>\n",
       "      <td>3.45660</td>\n",
       "      <td>9.52280</td>\n",
       "      <td>-4.0112</td>\n",
       "      <td>-3.59440</td>\n",
       "      <td>0</td>\n",
       "    </tr>\n",
       "    <tr>\n",
       "      <th>4</th>\n",
       "      <td>0.32924</td>\n",
       "      <td>-4.45520</td>\n",
       "      <td>4.5718</td>\n",
       "      <td>-0.98880</td>\n",
       "      <td>0</td>\n",
       "    </tr>\n",
       "    <tr>\n",
       "      <th>...</th>\n",
       "      <td>...</td>\n",
       "      <td>...</td>\n",
       "      <td>...</td>\n",
       "      <td>...</td>\n",
       "      <td>...</td>\n",
       "    </tr>\n",
       "    <tr>\n",
       "      <th>1367</th>\n",
       "      <td>0.40614</td>\n",
       "      <td>1.34920</td>\n",
       "      <td>-1.4501</td>\n",
       "      <td>-0.55949</td>\n",
       "      <td>1</td>\n",
       "    </tr>\n",
       "    <tr>\n",
       "      <th>1368</th>\n",
       "      <td>-1.38870</td>\n",
       "      <td>-4.87730</td>\n",
       "      <td>6.4774</td>\n",
       "      <td>0.34179</td>\n",
       "      <td>1</td>\n",
       "    </tr>\n",
       "    <tr>\n",
       "      <th>1369</th>\n",
       "      <td>-3.75030</td>\n",
       "      <td>-13.45860</td>\n",
       "      <td>17.5932</td>\n",
       "      <td>-2.77710</td>\n",
       "      <td>1</td>\n",
       "    </tr>\n",
       "    <tr>\n",
       "      <th>1370</th>\n",
       "      <td>-3.56370</td>\n",
       "      <td>-8.38270</td>\n",
       "      <td>12.3930</td>\n",
       "      <td>-1.28230</td>\n",
       "      <td>1</td>\n",
       "    </tr>\n",
       "    <tr>\n",
       "      <th>1371</th>\n",
       "      <td>-2.54190</td>\n",
       "      <td>-0.65804</td>\n",
       "      <td>2.6842</td>\n",
       "      <td>1.19520</td>\n",
       "      <td>1</td>\n",
       "    </tr>\n",
       "  </tbody>\n",
       "</table>\n",
       "<p>1372 rows × 5 columns</p>\n",
       "</div>"
      ],
      "text/plain": [
       "          var      skew     curt      ent  class\n",
       "0     3.62160   8.66610  -2.8073 -0.44699      0\n",
       "1     4.54590   8.16740  -2.4586 -1.46210      0\n",
       "2     3.86600  -2.63830   1.9242  0.10645      0\n",
       "3     3.45660   9.52280  -4.0112 -3.59440      0\n",
       "4     0.32924  -4.45520   4.5718 -0.98880      0\n",
       "...       ...       ...      ...      ...    ...\n",
       "1367  0.40614   1.34920  -1.4501 -0.55949      1\n",
       "1368 -1.38870  -4.87730   6.4774  0.34179      1\n",
       "1369 -3.75030 -13.45860  17.5932 -2.77710      1\n",
       "1370 -3.56370  -8.38270  12.3930 -1.28230      1\n",
       "1371 -2.54190  -0.65804   2.6842  1.19520      1\n",
       "\n",
       "[1372 rows x 5 columns]"
      ]
     },
     "metadata": {},
     "execution_count": 221
    }
   ],
   "metadata": {}
  },
  {
   "cell_type": "code",
   "execution_count": 222,
   "source": [
    "bank_note_data.info()"
   ],
   "outputs": [
    {
     "output_type": "stream",
     "name": "stdout",
     "text": [
      "<class 'pandas.core.frame.DataFrame'>\n",
      "RangeIndex: 1372 entries, 0 to 1371\n",
      "Data columns (total 5 columns):\n",
      " #   Column  Non-Null Count  Dtype  \n",
      "---  ------  --------------  -----  \n",
      " 0   var     1372 non-null   float64\n",
      " 1   skew    1372 non-null   float64\n",
      " 2   curt    1372 non-null   float64\n",
      " 3   ent     1372 non-null   float64\n",
      " 4   class   1372 non-null   int64  \n",
      "dtypes: float64(4), int64(1)\n",
      "memory usage: 53.7 KB\n"
     ]
    }
   ],
   "metadata": {}
  },
  {
   "cell_type": "markdown",
   "source": [
    "## &emsp;&emsp;Changing 0 values to -1 in target column"
   ],
   "metadata": {}
  },
  {
   "cell_type": "code",
   "execution_count": 223,
   "source": [
    "#No nan values present in the data so, no need to modify the data \r\n",
    "#In perceptron algorithm, We can only classify between 1 and -1. However, Given target column has 0 or -1\r\n",
    "#Hence, Replacing all 0 to -1 in target column(class)\r\n",
    "for i in range(len(bank_note_data)):\r\n",
    "    if bank_note_data.loc[i][\"class\"] == 0:\r\n",
    "        bank_note_data.at[i,\"class\"] = -1"
   ],
   "outputs": [],
   "metadata": {}
  },
  {
   "cell_type": "code",
   "execution_count": 224,
   "source": [
    "bank_note_data.nunique(axis=0)"
   ],
   "outputs": [
    {
     "output_type": "execute_result",
     "data": {
      "text/plain": [
       "var      1338\n",
       "skew     1256\n",
       "curt     1270\n",
       "ent      1156\n",
       "class       2\n",
       "dtype: int64"
      ]
     },
     "metadata": {},
     "execution_count": 224
    }
   ],
   "metadata": {}
  },
  {
   "cell_type": "markdown",
   "source": [
    "## &emsp;&emsp;Creating a function that returns the predicted values on test data set by learning from training data set\r\n",
    "### &emsp;&emsp;&emsp; The sign of $w^Tx$ is being considered for classification"
   ],
   "metadata": {}
  },
  {
   "cell_type": "code",
   "execution_count": 225,
   "source": [
    "def model(train_x,train_y,test_x):\r\n",
    "    \r\n",
    "    #Getting the Optimal w for the training data using the perceptron function\r\n",
    "    w = perceptron(train_x,train_y)\r\n",
    "    \r\n",
    "    #Predicting the target values based of weight vector obtained from the training data\r\n",
    "    pred_y = []\r\n",
    "    for i in range(len(test_x)):\r\n",
    "        t = np.dot(w,test_x.iloc[i])\r\n",
    "        if t<0:\r\n",
    "            pred_y.append(-1)\r\n",
    "        else : pred_y.append(1)\r\n",
    "    \r\n",
    "    #Returning the predicted value\r\n",
    "    return pred_y"
   ],
   "outputs": [],
   "metadata": {}
  },
  {
   "cell_type": "markdown",
   "source": [
    "# Q1(c)\r\n",
    "## &emsp;Train the algorithm on the dataset using cross-validation and report cross-validated test set error"
   ],
   "metadata": {}
  },
  {
   "cell_type": "code",
   "execution_count": 226,
   "source": [
    "#shuffling the data\r\n",
    "data = bank_note_data.sample(frac = 1).reset_index(drop=True)\r\n",
    "\r\n",
    "#Getting the training and test data sets by spliting the original data set\r\n",
    "data_tr,data_ts = [],[]\r\n",
    "a = int(len(data)*0.7)\r\n",
    "\r\n",
    "#Getting the training data set\r\n",
    "for i in range(a):\r\n",
    "    data_tr.append(data.iloc[i])\r\n",
    "    \r\n",
    "#Getting the test data set\r\n",
    "for i in range(a,len(data)):\r\n",
    "    data_ts.append(data.iloc[i])\r\n",
    "    \r\n",
    "#Cnverting to pandas Dataframe\r\n",
    "data_tr = pd.DataFrame(data_tr)\r\n",
    "data_ts = pd.DataFrame(data_ts)"
   ],
   "outputs": [],
   "metadata": {}
  },
  {
   "cell_type": "markdown",
   "source": [
    "## &emsp;&emsp;Defining a Function to return the Accuracy of the model using Cross-Validation"
   ],
   "metadata": {}
  },
  {
   "cell_type": "code",
   "execution_count": 227,
   "source": [
    "def cr_val(data,cv=5):\r\n",
    "    \r\n",
    "    cv_acc = []\r\n",
    "    for i in range(cv):\r\n",
    "        #shuffling the data\r\n",
    "        tdata = bank_note_data.sample(frac = 1).reset_index(drop=True)\r\n",
    "        \r\n",
    "        #Seperating data set into target and non-target columns\r\n",
    "        x = tdata.drop(\"class\",axis = 1)\r\n",
    "        y = tdata[\"class\"]\r\n",
    "    \r\n",
    "        #Getting the training and validation data sets from the origina data set by spliting it\r\n",
    "        tr_x,tr_y,val_x,val_y = [],[],[],[]\r\n",
    "        a = int(len(x)*0.7)\r\n",
    "\r\n",
    "        #Getting the training set\r\n",
    "        for i in range(a):\r\n",
    "            tr_x.append(x.iloc[i])\r\n",
    "            tr_y.append(y[i])\r\n",
    "\r\n",
    "        #Getting the validation set\r\n",
    "        for i in range(a,len(x)):\r\n",
    "            val_x.append(x.iloc[i])\r\n",
    "            val_y.append(y[i])\r\n",
    "            \r\n",
    "        #Converting into dataframe \r\n",
    "        tr_x = pd.DataFrame(tr_x)\r\n",
    "        val_x = pd.DataFrame(val_x)\r\n",
    "        \r\n",
    "        #Getting the Predicted Value using the model function\r\n",
    "        pred_y = model(tr_x,tr_y,val_x)\r\n",
    "        \r\n",
    "        #Calculating the Cross-Validation Accuracy\r\n",
    "        ct = 0\r\n",
    "        for i in range(len(pred_y)):\r\n",
    "            if val_y[i] == pred_y[i]:\r\n",
    "                ct += 1\r\n",
    "            \r\n",
    "        acc = round((ct/len(pred_y))*100,2)\r\n",
    "        cv_acc.append(acc)\r\n",
    "        \r\n",
    "    #Getting the mean of all the Cross-Validation Accuracies\r\n",
    "    result = np.mean(cv_acc)\r\n",
    "\r\n",
    "    #Returning the Cross-Validation Accuracy\r\n",
    "    return result"
   ],
   "outputs": [],
   "metadata": {}
  },
  {
   "cell_type": "code",
   "execution_count": 228,
   "source": [
    "print(cr_val(data_tr))"
   ],
   "outputs": [
    {
     "output_type": "stream",
     "name": "stdout",
     "text": [
      "93.88399999999999\n"
     ]
    }
   ],
   "metadata": {}
  },
  {
   "cell_type": "markdown",
   "source": [
    "# Q1(d)\r\n",
    "## &emsp;Ensure you use a held out validation set and report F1 score on the held out set for your best model "
   ],
   "metadata": {}
  },
  {
   "cell_type": "markdown",
   "source": [
    "$\r\n",
    "\\Large F1 = \\frac{2*precision*recall}{precision+recall}\r\n",
    "$\r\n",
    "$\r\n",
    "\\Large precision = \\frac{TP}{TP+FP}\r\n",
    "$\r\n",
    "$\r\n",
    "\\Large recall =  \\frac{TP}{TP+FN}\r\n",
    "$\r\n",
    "$ \r\n",
    "\\text{TP : True Positive}\r\n",
    "$\r\n",
    "$\r\n",
    "\\text{FP : False Positive}\r\n",
    "$\r\n",
    "$\r\n",
    "\\text{FN : False Negative}\r\n",
    "$"
   ],
   "metadata": {}
  },
  {
   "cell_type": "code",
   "execution_count": 229,
   "source": [
    "tr_x = data_tr.drop(\"class\",axis=1)\r\n",
    "tr_y = data_tr[\"class\"]\r\n",
    "ts_x = data_ts.drop(\"class\",axis=1)\r\n",
    "ts_y = data_ts[\"class\"]\r\n",
    "\r\n",
    "pred_y = model(tr_x,tr_y,ts_x)\r\n",
    "\r\n",
    "tp,fp,tn,fn = 0,0,0,0\r\n",
    "\r\n",
    "ts_y = list(ts_y)\r\n",
    "\r\n",
    "for i in range(len(pred_y)):\r\n",
    "    if ts_y[i] == pred_y[i]:\r\n",
    "        if ts_y[i] == 1:\r\n",
    "            tp += 1\r\n",
    "        else :\r\n",
    "            tn += 1\r\n",
    "    else :\r\n",
    "        if pred_y[i] == 1:\r\n",
    "            fp += 1\r\n",
    "        else :\r\n",
    "            fn += 1\r\n",
    "\r\n",
    "prec = tp/(tp+fp)\r\n",
    "rec = tp/(tp+fn)\r\n",
    "f1 = (2*prec*rec)/(prec+rec)\r\n",
    "print(f1)"
   ],
   "outputs": [
    {
     "output_type": "stream",
     "name": "stdout",
     "text": [
      "0.9411764705882353\n"
     ]
    }
   ],
   "metadata": {}
  },
  {
   "cell_type": "markdown",
   "source": [
    "***"
   ],
   "metadata": {}
  },
  {
   "cell_type": "markdown",
   "source": [
    "**<h1 style=\"text-align:center\"><font size = \"15\" >Q2</font></h1>**\r\n",
    "***"
   ],
   "metadata": {}
  },
  {
   "cell_type": "markdown",
   "source": [
    "# Q2(a)\r\n",
    "## &emsp;Write a function to calculate the Bayesian posterior probability given 50 new data samples drawn from a normal distribution with mean 10 and \r\n",
    "## &emsp;s.d. 5, assuming a normal prior with mean 25 and s.d. 5. Plot the pdfs of the prior, the likelihood and the posterior distributions. Explain how \r\n",
    "## &emsp;you derive the likelihood from the data."
   ],
   "metadata": {}
  },
  {
   "cell_type": "markdown",
   "source": [
    "## &emsp;For $n$ i.i.d. samples $x_1, x_2, ..., x_n$, we can calculate the likelihood as following:\r\n",
    "\r\n",
    "$$\r\n",
    "\\Large \\begin{align*}\r\n",
    "P(x_1, x_2, ..., x_n|\\mu, \\sigma^2) &= \\prod_{i=1}^{n} \\frac {1} {\\sqrt{2 \\pi \\sigma^2}} \\,exp{\\left[ \\frac{-(x_i-\\mu)^2}{2 \\sigma^2} \\right]}\\\\ \r\n",
    "&= \\left( \\frac {1} {\\sqrt{2 \\pi \\sigma^2}} \\right)^n exp{\\left[ \\frac{-1}{2 \\sigma^2}\\,{\\sum_{i=1}^n (x_i-\\mu)^2} \\right]} \\\\\r\n",
    "&\\propto exp{\\left[ \\frac{-1}{2 \\sigma^2}\\,{\\sum_{i=1}^n (x_i-\\mu)^2}\\right]}\\\\\r\n",
    "&\\propto exp{\\left[ \\frac {-1}{2 \\sigma^2}\\,{\\sum_{i=1}^n \\left(x_i^2 + n \\mu^2 - 2 \\mu x_i \\right)} \\right]} \\\\\r\n",
    "&\\propto exp{\\left[ \\frac {-n}{2 \\sigma^2} \\left( \\mu^2 - \\frac{2\\mu}{n}{\\sum_{i=1}^n x_i} + \\frac{1}{n}{\\sum_{i=1}^n x_i^2}  \\right) \\right]\r\n",
    "} \\\\\r\n",
    "&\\propto exp{\\left[ \\frac {-1} {2 \\left( \\sigma^2 / n \\right)} \\left( \\mu^2 - 2\\mu \\bar{x} + \\frac{1}{n}{\\sum_{i=1}^n x_i^2} \\right) \\right]} \\\\\r\n",
    "\\end{align*}\r\n",
    "$$\r\n",
    "\r\n",
    "## &emsp;The expected form of above equation(Likelihood) is $ \\;\\Large \\propto exp{\\left[ {\\frac {-1} {2 \\sigma_l^2} }  (\\mu - \\mu_l)^2 \\right]} $ which can be written as $ \\Large exp{\\left[ \\frac {-1} {2 \\sigma_l^2} \\left( \\mu^2 - 2\\mu\\mu_l + \\mu_l^2 \\right) \\right]} $\r\n",
    "## &emsp;Comparing the equations We get,\r\n",
    "$\r\n",
    "\\Large \\mu_l = \\bar{x}\r\n",
    "$\r\n",
    "$\r\n",
    "\\Large \\sigma_l^2 = \\frac{\\sigma^2}{n}\r\n",
    "$\r\n",
    "\r\n",
    "## &emsp;Hence, the probability density function for the likelihood is $\\mathcal{N}(\\bar {x}, \\frac{\\sigma^2}{n})$"
   ],
   "metadata": {}
  },
  {
   "cell_type": "markdown",
   "source": [
    "## &emsp;Calculating the Posterior:\r\n",
    "## &emsp;Prior : $\\mathcal{N}(\\mu_0, \\sigma_0^2)$\r\n",
    "## &emsp;Likelihood : $\\mathcal{N}(\\bar {x}, \\frac{\\sigma^2}{n})$\r\n",
    "\r\n",
    "$$\r\n",
    "\\Large \\begin{align*}\r\n",
    "Posterior &= Prior\\, * \\,Likelihood \\\\ \r\n",
    "\r\n",
    "&\\propto exp{\\left[ \\frac{-(\\mu-\\mu_0)^2}{2 \\sigma_0^2}\\,\\right]} * exp{\\left[ \\frac{-n(\\mu-x_i)^2}{2 \\sigma^2}\\,\\right]}\\\\\r\n",
    "\r\n",
    "&\\propto exp{\\left[ \\frac {-1}{2}\\left(\\left(\\frac{\\mu^2 + \\mu_0^2 - 2 \\mu \\mu_0}{\\sigma_0^2}\\right) + \\left(\\frac{n \\mu^2 + n \\bar{x}^2 - 2n \\mu \\bar{x}}{\\sigma^2}\\right) \\right)\\right]} \\\\\r\n",
    "\r\n",
    "&\\propto exp{\\left[ \\frac {-1}{2}\\left(\\mu^2\\left(\\frac{1}{\\sigma_0^2} + \\frac{n}{\\sigma^2}\\right) - 2\\mu\\left(\\frac{\\mu_0}{\\sigma_0^2} + \\frac{n\\bar{x}}{\\sigma^2}\\right) + \\left(\\frac{\\mu_0^2}{\\sigma_0^2} + \\frac{n\\bar{x}^2}{\\sigma^2}\\right)\\right)\\right]} \\\\\r\n",
    "\r\n",
    "\\end{align*}\r\n",
    "$$\r\n",
    "\r\n",
    "## &emsp;We known that the product of normal distributions is also a normal distribution, \r\n",
    "## &emsp;So the expected form of above equation(Posterior) will be $ \\;\\Large \\propto exp{\\left[ {\\frac {-1} {2 \\sigma_n^2} }  (\\mu - \\mu_n)^2 \\right]} $ which can be written as $ \\Large exp{\\left[ \\frac {-1} {2 \\sigma_n^2} \\left( \\mu^2 - 2\\mu\\mu_n + \\mu_n^2 \\right) \\right]} $\r\n",
    "## &emsp;Comparing the equations We get,\r\n",
    "$\r\n",
    "\\Large \\frac{1}{\\sigma_n^2} = \\frac{1}{\\sigma_0^2} + \\frac{n}{\\sigma^2}\r\n",
    "$\r\n",
    "$\r\n",
    "\\Large \\sigma_n^2 = \\frac{\\sigma_0^2\\sigma^2}{\\sigma_0^2 + \\sigma^2}\r\n",
    "$\r\n",
    "$\r\n",
    "\\Large \\frac{\\mu_n}{\\sigma_n^2} = \\left(\\frac{\\mu_0}{\\sigma_0^2} + \\frac{n\\bar{x}}{\\sigma^2} \\right)\r\n",
    "$\r\n",
    "$\r\n",
    "\\Large \\mu_n = \\frac{\\mu_0\\sigma^2 + n\\bar{x}\\sigma_0^2}{\\sigma_0^2 + \\sigma^2}\r\n",
    "$\r\n",
    "\r\n",
    "## &emsp;Hence, the probability density function for the Posterior is $\\mathcal{N}\\left(\\frac{\\mu_0\\sigma^2 + n\\bar{x}\\sigma_0^2}{\\sigma_0^2 + \\sigma^2}, \\frac{\\sigma_0^2\\sigma^2}{\\sigma_0^2 + \\sigma^2}\\right)$"
   ],
   "metadata": {}
  },
  {
   "cell_type": "code",
   "execution_count": 230,
   "source": [
    "#Given mean, s.d. and number of points for data\r\n",
    "mn_d = 10\r\n",
    "#np.random.normal function needs s.d. to be it's second parameter rather than variance\r\n",
    "sd_d = 5\r\n",
    "n = 50\r\n",
    "#Getting the data points which is N(10,25)\r\n",
    "data = np.random.normal(mn_d,sd_d,n)\r\n",
    "#Getting the mean of the data points\r\n",
    "d_mn = np.mean(data)\r\n",
    "    \r\n",
    "#Given mean and s.d. of prior\r\n",
    "mn_pr = 25\r\n",
    "sd_pr = 5\r\n",
    "\r\n",
    "#mean and s.d. for likelihood\r\n",
    "mn_lklhd = d_mn\r\n",
    "sd_lklhd = (sd_d**2)/n\r\n",
    "\r\n",
    "#mean and s.s. for posterior\r\n",
    "sd_po = (sd_d**2)*(sd_pr**2)/((sd_d**2) + (sd_pr**2)*n)\r\n",
    "mn_po = (mn_pr*(sd_d**2) + n*mn_d*(sd_pr**2))/((sd_d**2) + (sd_pr**2)*n)\r\n",
    "\r\n",
    "#Getting the prior\r\n",
    "x = np.random.uniform(mn_pr-4*sd_pr,mn_pr+4*sd_pr,100)\r\n",
    "x = np.sort(x)\r\n",
    "    \r\n",
    "def prior():\r\n",
    "    a_pr = []\r\n",
    "\r\n",
    "    #Getting the prior points to plot\r\n",
    "    for i in range(100):\r\n",
    "        v_pr = (1/np.sqrt(2*np.pi*(sd_pr**2)))*np.exp(-(((x[i] - mn_pr)**2)/(2*(sd_pr**2))))\r\n",
    "        a_pr.append(v_pr)\r\n",
    "\r\n",
    "    #returning the array of prior points\r\n",
    "    return a_pr\r\n",
    "    \r\n",
    "def likelihood():\r\n",
    "    b_lklhd = []\r\n",
    "\r\n",
    "    #Getting the likelihood points to plot\r\n",
    "    for i in range(100):\r\n",
    "        v_lklhd = (1/np.sqrt(2*np.pi*(sd_lklhd)))*np.exp(-(((mn_lklhd - x[i])**2)/(2*(sd_lklhd))))\r\n",
    "        b_lklhd.append(v_lklhd)\r\n",
    "\r\n",
    "    #returning the array of likelihood points\r\n",
    "    return b_lklhd\r\n",
    "        \r\n",
    "def posterior():\r\n",
    "    c_po = []\r\n",
    "\r\n",
    "    #Getting the posterior points to plot\r\n",
    "    for i in range(100):\r\n",
    "        v_po = (1/np.sqrt(2*np.pi*(sd_po)))*np.exp(-(((x[i] - mn_po)**2)/(2*(sd_po))))\r\n",
    "        c_po.append(v_po)\r\n",
    "    \r\n",
    "    #returning the array of posterior points\r\n",
    "    return c_po\r\n",
    "\r\n",
    "c_po = posterior()"
   ],
   "outputs": [],
   "metadata": {}
  },
  {
   "cell_type": "markdown",
   "source": [
    "## &emsp;Plotting Graphs"
   ],
   "metadata": {}
  },
  {
   "cell_type": "code",
   "execution_count": 231,
   "source": [
    "fig,ax = plt.subplots()\r\n",
    "\r\n",
    "#Plotting prior\r\n",
    "ax.plot(x,prior(),label = \"Prior\")\r\n",
    "\r\n",
    "#Plotting Likelihood\r\n",
    "ax.plot(x,likelihood(),label = \"Likelihood\")\r\n",
    "\r\n",
    "#Plotting Posterior\r\n",
    "ax.plot(x,c_po,label = \"Posterior\")\r\n",
    "ax.legend()"
   ],
   "outputs": [
    {
     "output_type": "execute_result",
     "data": {
      "text/plain": [
       "<matplotlib.legend.Legend at 0x2416519fb70>"
      ]
     },
     "metadata": {},
     "execution_count": 231
    },
    {
     "output_type": "display_data",
     "data": {
      "image/png": "[encoded data removed]",
      "text/plain": [
       "<Figure size 432x288 with 1 Axes>"
      ]
     },
     "metadata": {
      "needs_background": "light"
     }
    }
   ],
   "metadata": {}
  },
  {
   "cell_type": "markdown",
   "source": [
    "# Q2(b)\r\n",
    "## &emsp;Implement the Metropolis algorithm from the lecture slides to estimate the posterior distributiongiven the same prior and data and show that it converges to the\r\n",
    "## &emsp;analytic posterior by plotting ahistogram of samples from the distribution alongside the analytic posterior distribution.  Assumewhatever SD (width) you want for the \r\n",
    "## &emsp;proposal distribution."
   ],
   "metadata": {}
  },
  {
   "cell_type": "markdown",
   "source": [
    "$ \r\n",
    "\\large \\theta \\text{ : the parameter for which we are simulating the distribution} \\\\ \\text{Y : the random variable that depends on }\\theta \\\\ \\text{y : realizations of the random variable Y (our sample) } \\\\ f_\\theta(\\theta)\\text{ : our prior (updated each step with value from the previous period)} \\\\ f_{Y|\\theta}{y|\\theta} \\text{ : our likelihood} \\\\ f_{\\theta|Y}{\\theta|y} \\text{ : out posterior} \\propto f_\\theta(\\theta)\\;*\\;f_{Y|\\theta}{y|\\theta} \\\\ J_\\theta(\\theta|\\theta_{t-1}) \\text{ : our jumping distribution, used to generate proposed new values of }\\theta \r\n",
    "$\r\n",
    "$ \\LARGE \\text{The steps for Metropolis-Hastings Algorithm:} \\\\$\r\n",
    "&emsp;$ \\Large\\text{Step 1:} \\\\$\r\n",
    "&emsp;&emsp;$ \\large \\text{Choose a starting value : }\\theta_{t-1}\\text{. At } t=1,\\; \\theta_{t-1} \\text{ is our starting prior value for }\\theta \\\\$\r\n",
    "&emsp;$ \\Large\\text{Step 2:} \\\\$\r\n",
    "&emsp;&emsp;$ \\large\\text{Generate a proposal for period }t,\\theta_t^* \\text{ by sampling from the jumping distribution }J(\\theta|\\theta_{t-1}). \\\\$\r\n",
    "&emsp;$ \\Large\\text{Step 2:} \\\\$\r\n",
    "&emsp;&emsp;$ \\large\\text{Find the ratio of the posterior of the proposal to the posterior of the prior value: } \\\\$\r\n",
    "$\r\n",
    "\\LARGE r=\\frac{\\frac{f_{\\theta|Y}(\\theta_t^*|y)}{J_\\theta(\\theta_t^*|\\theta_{t-1})}}{\\frac{f_{\\theta|Y}(\\theta_{t-1}|y)}{J_\\theta(\\theta_{t-1}|\\theta_t^*)}}\r\n",
    "$\r\n",
    "&emsp;&emsp;$ \\large\\text{For symmetric jumping distributions, }J_\\theta(\\theta_t^*|\\theta_{t-1})\\;=\\;J_\\theta(\\theta_{t-1}|\\theta_t^*) \\text{, so}$\r\n",
    "$\r\n",
    "\\LARGE r=\\frac{f_\\theta(\\theta_t^*)f_{Y|\\theta}(y|\\theta_t^*)}{f_\\theta(\\theta_{t-1})f_{Y|\\theta}(y|\\theta_{t-1})}\r\n",
    "$\r\n",
    "&emsp;$ \\Large\\text{Step 4:} \\\\$\r\n",
    "&emsp;&emsp;$ \\large\\text{If }r>a,\\;\\theta_t = \\theta_t^*\\text{ (we accept the proposed value). This has probability } min(r,1)\\\\$\r\n",
    "&emsp;&emsp;$ \\large\\text{If }r\\leq a,\\;\\theta_t = \\theta_{t-1}\\text{ (we reject the proposed value and use the prior value). This has probability } 1 - min(r,1)\\\\$\r\n",
    "&emsp;$ \\Large\\text{Step 5:} \\\\$\r\n",
    "&emsp;&emsp;$ \\large\\text{Repeat until we reach the number of max number of iterations} $"
   ],
   "metadata": {}
  },
  {
   "cell_type": "code",
   "execution_count": 238,
   "source": [
    "#Initiating list of points to plot in histogram\r\n",
    "theta_lst = []\r\n",
    "\r\n",
    "#Initiating theta_0 as a random number(starting value)\r\n",
    "theta_0 = np.random.normal(25,5,1)\r\n",
    "\r\n",
    "#Running the loop for 100000 times\r\n",
    "for i in range(100000):\r\n",
    "\r\n",
    "    #Getting new proposed value in theta_1\r\n",
    "    theta_1 = np.random.normal(theta_0,0.1,1)\r\n",
    "    \r\n",
    "    #Calculating the numerator term of r\r\n",
    "    p_n = (1/np.sqrt(2*np.pi*(sd_pr**2)))*np.exp(-(((theta_1 - mn_pr)**2)/(2*(sd_pr**2))))\r\n",
    "    l_n = (1/np.sqrt(2*np.pi*(sd_lklhd)))*np.exp(-(((mn_lklhd - theta_1)**2)/(2*(sd_lklhd))))\r\n",
    "    \r\n",
    "    #Calculating the denominator term of r\r\n",
    "    p_d = (1/np.sqrt(2*np.pi*(sd_pr**2)))*np.exp(-(((theta_0 - mn_pr)**2)/(2*(sd_pr**2))))\r\n",
    "    l_d = (1/np.sqrt(2*np.pi*(sd_lklhd)))*np.exp(-(((mn_lklhd - theta_0)**2)/(2*(sd_lklhd))))\r\n",
    "    \r\n",
    "    #Calculating r\r\n",
    "    r = (p_n*l_n)/(p_d*l_d)\r\n",
    "    \r\n",
    "    #Getting a random number between 0 and 1\r\n",
    "    rand_no = np.random.rand()\r\n",
    "    \r\n",
    "    #Checking if proposed value has to be accepted or rejected\r\n",
    "    if r>rand_no:\r\n",
    "        theta_0 = theta_1\r\n",
    "        theta_lst.append(float(theta_0))"
   ],
   "outputs": [],
   "metadata": {}
  },
  {
   "cell_type": "markdown",
   "source": [
    "## &emsp;Plotting Graphs"
   ],
   "metadata": {}
  },
  {
   "cell_type": "code",
   "execution_count": 239,
   "source": [
    "#Plotting the Histogram for the theta values from Metropolis Algorithm\r\n",
    "plt.hist(theta_lst,density=True)\r\n",
    "\r\n",
    "#Plotting the Posterior obtained in Q2(a)\r\n",
    "plt.plot(x,c_po)"
   ],
   "outputs": [
    {
     "output_type": "execute_result",
     "data": {
      "text/plain": [
       "[<matplotlib.lines.Line2D at 0x241665d2ac8>]"
      ]
     },
     "metadata": {},
     "execution_count": 239
    },
    {
     "output_type": "display_data",
     "data": {
      "image/png": "[encoded data removed]",
      "text/plain": [
       "<Figure size 432x288 with 1 Axes>"
      ]
     },
     "metadata": {
      "needs_background": "light"
     }
    }
   ],
   "metadata": {}
  },
  {
   "cell_type": "markdown",
   "source": [
    "# Q2(c)\r\n",
    "## &emsp;How does the speed of convergence of the sampling depend on the proposal width? Is there anoptimal proposal width that would work best? Demonstrate the \r\n",
    "## &emsp;consequences of using sub-optimalproposal width and terminating sampling too soon."
   ],
   "metadata": {}
  },
  {
   "cell_type": "markdown",
   "source": [
    "## &emsp;&emsp;Writing Convergence function to try to converge the calculation of theta early"
   ],
   "metadata": {}
  },
  {
   "cell_type": "code",
   "execution_count": 240,
   "source": [
    "#Defining Convergence function which takes k(number of latest thetas considered) and diff(maximum difference )\r\n",
    "def conv(k,diff):  \r\n",
    "    #Initiating list of points to plot in histogram\r\n",
    "    theta_lst = []\r\n",
    "\r\n",
    "    #Initiating theta_0 as a random number(starting value)\r\n",
    "    theta_0 = np.random.normal(25,5,1)\r\n",
    "\r\n",
    "    #Running the loop for 100000 times\r\n",
    "    for i in range(100000):\r\n",
    "\r\n",
    "        #Getting new proposed value in theta_1\r\n",
    "        theta_1 = np.random.normal(theta_0,0.1,1)\r\n",
    "        \r\n",
    "        #Calculating the numerator term of r\r\n",
    "        p_n = (1/np.sqrt(2*np.pi*(sd_pr**2)))*np.exp(-(((theta_1 - mn_pr)**2)/(2*(sd_pr**2))))\r\n",
    "        l_n = (1/np.sqrt(2*np.pi*(sd_lklhd)))*np.exp(-(((mn_lklhd - theta_1)**2)/(2*(sd_lklhd))))\r\n",
    "        \r\n",
    "        #Calculating the denominator term of r\r\n",
    "        p_d = (1/np.sqrt(2*np.pi*(sd_pr**2)))*np.exp(-(((theta_0 - mn_pr)**2)/(2*(sd_pr**2))))\r\n",
    "        l_d = (1/np.sqrt(2*np.pi*(sd_lklhd)))*np.exp(-(((mn_lklhd - theta_0)**2)/(2*(sd_lklhd))))\r\n",
    "        \r\n",
    "        #Calculating r\r\n",
    "        r = (p_n*l_n)/(p_d*l_d)\r\n",
    "        \r\n",
    "        #Getting a random number between 0 and 1\r\n",
    "        rand_no = np.random.rand()\r\n",
    "        \r\n",
    "        #Checking if proposed value has to be accepted or rejected\r\n",
    "        if r>rand_no:\r\n",
    "            theta_0 = theta_1\r\n",
    "            theta_lst.append(float(theta_0))\r\n",
    "            \r\n",
    "        if i>k:\r\n",
    "            #Here we take the absolute difference between the mean of latest k theta values and the current theta value to check for convergence\r\n",
    "            if np.absolute(theta_0 - np.mean(theta_lst[len(theta_lst)-k:len(theta_lst)])) >= diff:\r\n",
    "                break\r\n",
    "    return theta_lst"
   ],
   "outputs": [],
   "metadata": {}
  },
  {
   "cell_type": "code",
   "execution_count": 241,
   "source": [
    "#Plotting the Histogram for the theta values from Metropolis Algorithm\r\n",
    "plt.hist(conv(1000,2.5),density=True)\r\n",
    "\r\n",
    "#Plotting the Posterior obtained in Q2(a)\r\n",
    "plt.plot(x,c_po)"
   ],
   "outputs": [
    {
     "output_type": "execute_result",
     "data": {
      "text/plain": [
       "[<matplotlib.lines.Line2D at 0x241666fc898>]"
      ]
     },
     "metadata": {},
     "execution_count": 241
    },
    {
     "output_type": "display_data",
     "data": {
      "image/png": "[encoded data removed]",
      "text/plain": [
       "<Figure size 432x288 with 1 Axes>"
      ]
     },
     "metadata": {
      "needs_background": "light"
     }
    }
   ],
   "metadata": {}
  },
  {
   "cell_type": "markdown",
   "source": [
    "***"
   ],
   "metadata": {}
  }
 ],
 "metadata": {
  "kernelspec": {
   "name": "python3",
   "display_name": "Python 3.7.3 64-bit"
  },
  "language_info": {
   "codemirror_mode": {
    "name": "ipython",
    "version": 3
   },
   "file_extension": ".py",
   "mimetype": "text/x-python",
   "name": "python",
   "nbconvert_exporter": "python",
   "pygments_lexer": "ipython3",
   "version": "3.7.3"
  },
  "interpreter": {
   "hash": "c80d797ad0c0f99ceecb07d53ac314bc1d62fa8729ade7f8a491ed15ddf8184a"
  }
 },
 "nbformat": 4,
 "nbformat_minor": 5
}